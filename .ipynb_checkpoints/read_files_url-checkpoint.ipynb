{
 "cells": [
  {
   "cell_type": "markdown",
   "metadata": {},
   "source": [
    "## Informe de niños, en peligro de drogra o violencia de pandillas en Cali."
   ]
  },
  {
   "cell_type": "code",
   "execution_count": 1,
   "metadata": {},
   "outputs": [],
   "source": [
    "import pandas as pd"
   ]
  },
  {
   "cell_type": "code",
   "execution_count": 11,
   "metadata": {},
   "outputs": [],
   "source": [
    "medals_url = \"http://winterolympicsmedals.com/medals.csv\""
   ]
  },
  {
   "cell_type": "code",
   "execution_count": 12,
   "metadata": {},
   "outputs": [],
   "source": [
    "medals_data = pd.read_csv( medals_url)"
   ]
  },
  {
   "cell_type": "markdown",
   "metadata": {},
   "source": []
  },
  {
   "cell_type": "code",
   "execution_count": null,
   "metadata": {},
   "outputs": [],
   "source": []
  },
  {
   "cell_type": "code",
   "execution_count": 21,
   "metadata": {},
   "outputs": [],
   "source": [
    "file_url = pd.read_excel(\"Documents/my_scrips_data_cleaning/Inicial.xls\", \"CARACT 7\")\n",
    "comuna20 = pd.read_excel(\"Documents/my_scrips_data_cleaning/Inicial.xls\", \"TABLA 20\")"
   ]
  },
  {
   "cell_type": "code",
   "execution_count": 114,
   "metadata": {},
   "outputs": [],
   "source": [
    "import urllib3\n",
    "http = urllib3.PoolManager()\n",
    "file_url2 = \"https://drive.google.com/file/d/18BpargXs_nX5JLL7VwE3iJKJg-v6VvXD/view?usp=sharing\"\n",
    "r = http.request('GET',file_url2)\n",
    "#r.data"
   ]
  },
  {
   "cell_type": "code",
   "execution_count": null,
   "metadata": {},
   "outputs": [],
   "source": []
  },
  {
   "cell_type": "code",
   "execution_count": null,
   "metadata": {},
   "outputs": [],
   "source": []
  },
  {
   "cell_type": "code",
   "execution_count": null,
   "metadata": {},
   "outputs": [],
   "source": []
  },
  {
   "cell_type": "code",
   "execution_count": null,
   "metadata": {},
   "outputs": [],
   "source": []
  },
  {
   "cell_type": "code",
   "execution_count": 24,
   "metadata": {},
   "outputs": [
    {
     "data": {
      "text/html": [
       "<div>\n",
       "<style scoped>\n",
       "    .dataframe tbody tr th:only-of-type {\n",
       "        vertical-align: middle;\n",
       "    }\n",
       "\n",
       "    .dataframe tbody tr th {\n",
       "        vertical-align: top;\n",
       "    }\n",
       "\n",
       "    .dataframe thead th {\n",
       "        text-align: right;\n",
       "    }\n",
       "</style>\n",
       "<table border=\"1\" class=\"dataframe\">\n",
       "  <thead>\n",
       "    <tr style=\"text-align: right;\">\n",
       "      <th></th>\n",
       "      <th>AREA</th>\n",
       "      <th>No.</th>\n",
       "      <th>Codigo del participante</th>\n",
       "      <th>1</th>\n",
       "      <th>2</th>\n",
       "      <th>3</th>\n",
       "      <th>4</th>\n",
       "      <th>5</th>\n",
       "      <th>6</th>\n",
       "      <th>7</th>\n",
       "      <th>...</th>\n",
       "      <th>42</th>\n",
       "      <th>43</th>\n",
       "      <th>44</th>\n",
       "      <th>45</th>\n",
       "      <th>46</th>\n",
       "      <th>47</th>\n",
       "      <th>48</th>\n",
       "      <th>49</th>\n",
       "      <th>50</th>\n",
       "      <th>51</th>\n",
       "    </tr>\n",
       "  </thead>\n",
       "  <tbody>\n",
       "    <tr>\n",
       "      <th>0</th>\n",
       "      <td>DATOS GENERALES</td>\n",
       "      <td>1</td>\n",
       "      <td>Edad</td>\n",
       "      <td>16</td>\n",
       "      <td>16</td>\n",
       "      <td>13</td>\n",
       "      <td>15</td>\n",
       "      <td>14</td>\n",
       "      <td>16</td>\n",
       "      <td>16</td>\n",
       "      <td>...</td>\n",
       "      <td>11</td>\n",
       "      <td>10</td>\n",
       "      <td>11</td>\n",
       "      <td>12</td>\n",
       "      <td>8</td>\n",
       "      <td>10</td>\n",
       "      <td>9</td>\n",
       "      <td>11</td>\n",
       "      <td>11</td>\n",
       "      <td>11</td>\n",
       "    </tr>\n",
       "    <tr>\n",
       "      <th>1</th>\n",
       "      <td>NaN</td>\n",
       "      <td>2</td>\n",
       "      <td>Género (F/M)</td>\n",
       "      <td>M</td>\n",
       "      <td>F</td>\n",
       "      <td>M</td>\n",
       "      <td>F</td>\n",
       "      <td>F</td>\n",
       "      <td>M</td>\n",
       "      <td>F</td>\n",
       "      <td>...</td>\n",
       "      <td>M</td>\n",
       "      <td>M</td>\n",
       "      <td>F</td>\n",
       "      <td>M</td>\n",
       "      <td>F</td>\n",
       "      <td>F</td>\n",
       "      <td>F</td>\n",
       "      <td>F</td>\n",
       "      <td>F</td>\n",
       "      <td>M</td>\n",
       "    </tr>\n",
       "    <tr>\n",
       "      <th>2</th>\n",
       "      <td>NaN</td>\n",
       "      <td>3</td>\n",
       "      <td>Escolaridad (último año aprobado)</td>\n",
       "      <td>11°</td>\n",
       "      <td>10°</td>\n",
       "      <td>7°</td>\n",
       "      <td>8°</td>\n",
       "      <td>7°</td>\n",
       "      <td>9°</td>\n",
       "      <td>10°</td>\n",
       "      <td>...</td>\n",
       "      <td>5°</td>\n",
       "      <td>5°</td>\n",
       "      <td>2</td>\n",
       "      <td>2</td>\n",
       "      <td>1</td>\n",
       "      <td>4°</td>\n",
       "      <td>3°</td>\n",
       "      <td>6°</td>\n",
       "      <td>5°</td>\n",
       "      <td>6°</td>\n",
       "    </tr>\n",
       "    <tr>\n",
       "      <th>3</th>\n",
       "      <td>AREA FAMILIAR</td>\n",
       "      <td>1</td>\n",
       "      <td>Personas con las que convive (cantidad)</td>\n",
       "      <td>3</td>\n",
       "      <td>9</td>\n",
       "      <td>5</td>\n",
       "      <td>1</td>\n",
       "      <td>5</td>\n",
       "      <td>5</td>\n",
       "      <td>5</td>\n",
       "      <td>...</td>\n",
       "      <td>2</td>\n",
       "      <td>3</td>\n",
       "      <td>3</td>\n",
       "      <td>4</td>\n",
       "      <td>2</td>\n",
       "      <td>2</td>\n",
       "      <td>3</td>\n",
       "      <td>3</td>\n",
       "      <td>5</td>\n",
       "      <td>6</td>\n",
       "    </tr>\n",
       "    <tr>\n",
       "      <th>4</th>\n",
       "      <td>AREA ESCOLER</td>\n",
       "      <td>1</td>\n",
       "      <td>Estudia actualmente (Si/No/NA)</td>\n",
       "      <td>SI</td>\n",
       "      <td>SI</td>\n",
       "      <td>SI</td>\n",
       "      <td>SI</td>\n",
       "      <td>SI</td>\n",
       "      <td>SI</td>\n",
       "      <td>SI</td>\n",
       "      <td>...</td>\n",
       "      <td>SI</td>\n",
       "      <td>SI</td>\n",
       "      <td>SI</td>\n",
       "      <td>SI</td>\n",
       "      <td>SI</td>\n",
       "      <td>SI</td>\n",
       "      <td>SI</td>\n",
       "      <td>SI</td>\n",
       "      <td>SI</td>\n",
       "      <td>SI</td>\n",
       "    </tr>\n",
       "  </tbody>\n",
       "</table>\n",
       "<p>5 rows × 54 columns</p>\n",
       "</div>"
      ],
      "text/plain": [
       "              AREA No.                  Codigo del participante    1    2   3  \\\n",
       "0  DATOS GENERALES   1                                     Edad   16   16  13   \n",
       "1              NaN   2                             Género (F/M)   M    F   M    \n",
       "2              NaN   3        Escolaridad (último año aprobado)  11°  10°  7°   \n",
       "3    AREA FAMILIAR   1  Personas con las que convive (cantidad)    3    9   5   \n",
       "4     AREA ESCOLER   1           Estudia actualmente (Si/No/NA)   SI   SI  SI   \n",
       "\n",
       "    4   5   6    7  ...  42  43  44  45  46  47  48  49  50  51  \n",
       "0  15  14  16   16  ...  11  10  11  12   8  10   9  11  11  11  \n",
       "1  F   F   M    F   ...  M   M   F   M   F   F   F   F   F   M   \n",
       "2  8°  7°  9°  10°  ...  5°  5°   2   2   1  4°  3°  6°  5°  6°  \n",
       "3   1   5   5    5  ...   2   3   3   4   2   2   3   3   5   6  \n",
       "4  SI  SI  SI   SI  ...  SI  SI  SI  SI  SI  SI  SI  SI  SI  SI  \n",
       "\n",
       "[5 rows x 54 columns]"
      ]
     },
     "execution_count": 24,
     "metadata": {},
     "output_type": "execute_result"
    }
   ],
   "source": [
    "comuna20.head()"
   ]
  },
  {
   "cell_type": "code",
   "execution_count": 56,
   "metadata": {},
   "outputs": [
    {
     "data": {
      "text/plain": [
       "array(['AREA', 'No.', 'Codigo del participante', 1, 2, 3, 4, 5, 6, 7, 8,\n",
       "       9, 10, 11, 12, 13, 14, 15, 16, 17, 18, 19, 20, 21, 22, 23, 24, 25,\n",
       "       26, 27, 28, 29, 30, 31, 32, 33, 34, 35, 36, 37, 38, 39, 40, 41, 42,\n",
       "       43, 44, 45, 46, 47, 48, 49, 50, 51], dtype=object)"
      ]
     },
     "execution_count": 56,
     "metadata": {},
     "output_type": "execute_result"
    }
   ],
   "source": [
    "comuna20.columns.values\n",
    "#comuna20[1]"
   ]
  },
  {
   "cell_type": "code",
   "execution_count": 99,
   "metadata": {},
   "outputs": [
    {
     "name": "stdout",
     "output_type": "stream",
     "text": [
      "El promedio de la edad es 12.67\n"
     ]
    }
   ],
   "source": [
    "mean_years_old = 0\n",
    "j = 0\n",
    "for i in range(1,52):\n",
    "    mean_years_old = mean_years_old + float(comuna20[i][0])\n",
    "    j = j + 1\n",
    "mean_years_old =  mean_years_old / j\n",
    "print(\"El promedio de la edad es \" + \"{:.2f}\".format(mean_years_old))"
   ]
  },
  {
   "cell_type": "code",
   "execution_count": 100,
   "metadata": {},
   "outputs": [
    {
     "name": "stdout",
     "output_type": "stream",
     "text": [
      "El promedio de número de personas con las que vive es 4.12\n"
     ]
    }
   ],
   "source": [
    "#Número de personas con las que vive.\n",
    "mean_persons = 0\n",
    "j = 0\n",
    "for i in range(1,52):\n",
    "    mean_persons = mean_persons + float(comuna20[i][3])\n",
    "    j = j + 1\n",
    "mean_persons =  mean_persons / j\n",
    "print(\"El promedio de número de personas con las que vive es \" + \"{:.2f}\".format(mean_persons))"
   ]
  },
  {
   "cell_type": "code",
   "execution_count": 101,
   "metadata": {},
   "outputs": [
    {
     "name": "stdout",
     "output_type": "stream",
     "text": [
      "La cantidad de niños que estudia es 47, frente a la cantidad de niños que no estudia 4.\n"
     ]
    }
   ],
   "source": [
    "#Número de niños con los que vive.\n",
    "mean = 0\n",
    "j = 0\n",
    "study = 0\n",
    "no_study = 0\n",
    "for i in range(1,52):\n",
    "    if comuna20[i][4] ==  \"SI\":\n",
    "        study = study + 1\n",
    "    if comuna20[i][4] ==  \"NO\":\n",
    "        no_study = no_study + 1\n",
    "        \n",
    "print(\"La cantidad de niños que estudia es %d, frente a la cantidad de niños que no estudia %d.\" %(study,no_study))"
   ]
  },
  {
   "cell_type": "code",
   "execution_count": 93,
   "metadata": {},
   "outputs": [
    {
     "data": {
      "text/plain": [
       "8"
      ]
     },
     "execution_count": 93,
     "metadata": {},
     "output_type": "execute_result"
    }
   ],
   "source": []
  },
  {
   "cell_type": "code",
   "execution_count": null,
   "metadata": {},
   "outputs": [],
   "source": []
  },
  {
   "cell_type": "code",
   "execution_count": null,
   "metadata": {},
   "outputs": [],
   "source": []
  },
  {
   "cell_type": "code",
   "execution_count": null,
   "metadata": {},
   "outputs": [],
   "source": []
  },
  {
   "cell_type": "code",
   "execution_count": null,
   "metadata": {},
   "outputs": [],
   "source": []
  }
 ],
 "metadata": {
  "kernelspec": {
   "display_name": "Python 3",
   "language": "python",
   "name": "python3"
  },
  "language_info": {
   "codemirror_mode": {
    "name": "ipython",
    "version": 3
   },
   "file_extension": ".py",
   "mimetype": "text/x-python",
   "name": "python",
   "nbconvert_exporter": "python",
   "pygments_lexer": "ipython3",
   "version": "3.7.6"
  }
 },
 "nbformat": 4,
 "nbformat_minor": 4
}
